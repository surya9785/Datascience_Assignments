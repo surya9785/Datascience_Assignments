{
 "cells": [
  {
   "cell_type": "code",
   "execution_count": 9,
   "id": "8d0b092a",
   "metadata": {},
   "outputs": [],
   "source": [
    "import numpy as np\n",
    "import pandas as pd\n",
    "from scipy import stats\n",
    "from scipy.stats import describe\n",
    "from dataclasses import asdict"
   ]
  },
  {
   "cell_type": "code",
   "execution_count": 10,
   "id": "fb6fdc12",
   "metadata": {},
   "outputs": [
    {
     "data": {
      "text/html": [
       "<div>\n",
       "<style scoped>\n",
       "    .dataframe tbody tr th:only-of-type {\n",
       "        vertical-align: middle;\n",
       "    }\n",
       "\n",
       "    .dataframe tbody tr th {\n",
       "        vertical-align: top;\n",
       "    }\n",
       "\n",
       "    .dataframe thead th {\n",
       "        text-align: right;\n",
       "    }\n",
       "</style>\n",
       "<table border=\"1\" class=\"dataframe\">\n",
       "  <thead>\n",
       "    <tr style=\"text-align: right;\">\n",
       "      <th></th>\n",
       "      <th>Unit A</th>\n",
       "      <th>Unit B</th>\n",
       "    </tr>\n",
       "  </thead>\n",
       "  <tbody>\n",
       "    <tr>\n",
       "      <th>0</th>\n",
       "      <td>6.8090</td>\n",
       "      <td>6.7703</td>\n",
       "    </tr>\n",
       "    <tr>\n",
       "      <th>1</th>\n",
       "      <td>6.4376</td>\n",
       "      <td>7.5093</td>\n",
       "    </tr>\n",
       "    <tr>\n",
       "      <th>2</th>\n",
       "      <td>6.9157</td>\n",
       "      <td>6.7300</td>\n",
       "    </tr>\n",
       "    <tr>\n",
       "      <th>3</th>\n",
       "      <td>7.3012</td>\n",
       "      <td>6.7878</td>\n",
       "    </tr>\n",
       "    <tr>\n",
       "      <th>4</th>\n",
       "      <td>7.4488</td>\n",
       "      <td>7.1522</td>\n",
       "    </tr>\n",
       "  </tbody>\n",
       "</table>\n",
       "</div>"
      ],
      "text/plain": [
       "   Unit A  Unit B\n",
       "0  6.8090  6.7703\n",
       "1  6.4376  7.5093\n",
       "2  6.9157  6.7300\n",
       "3  7.3012  6.7878\n",
       "4  7.4488  7.1522"
      ]
     },
     "execution_count": 10,
     "metadata": {},
     "output_type": "execute_result"
    }
   ],
   "source": [
    "df=pd.read_csv(r\"C:\\Users\\surya\\Downloads\\Cutlets.csv\")\n",
    "df.head()"
   ]
  },
  {
   "cell_type": "code",
   "execution_count": 11,
   "id": "bdadea5f",
   "metadata": {},
   "outputs": [
    {
     "data": {
      "text/html": [
       "<div>\n",
       "<style scoped>\n",
       "    .dataframe tbody tr th:only-of-type {\n",
       "        vertical-align: middle;\n",
       "    }\n",
       "\n",
       "    .dataframe tbody tr th {\n",
       "        vertical-align: top;\n",
       "    }\n",
       "\n",
       "    .dataframe thead th {\n",
       "        text-align: right;\n",
       "    }\n",
       "</style>\n",
       "<table border=\"1\" class=\"dataframe\">\n",
       "  <thead>\n",
       "    <tr style=\"text-align: right;\">\n",
       "      <th></th>\n",
       "      <th>A</th>\n",
       "      <th>B</th>\n",
       "    </tr>\n",
       "  </thead>\n",
       "  <tbody>\n",
       "    <tr>\n",
       "      <th>0</th>\n",
       "      <td>6.8090</td>\n",
       "      <td>6.7703</td>\n",
       "    </tr>\n",
       "    <tr>\n",
       "      <th>1</th>\n",
       "      <td>6.4376</td>\n",
       "      <td>7.5093</td>\n",
       "    </tr>\n",
       "    <tr>\n",
       "      <th>2</th>\n",
       "      <td>6.9157</td>\n",
       "      <td>6.7300</td>\n",
       "    </tr>\n",
       "    <tr>\n",
       "      <th>3</th>\n",
       "      <td>7.3012</td>\n",
       "      <td>6.7878</td>\n",
       "    </tr>\n",
       "    <tr>\n",
       "      <th>4</th>\n",
       "      <td>7.4488</td>\n",
       "      <td>7.1522</td>\n",
       "    </tr>\n",
       "  </tbody>\n",
       "</table>\n",
       "</div>"
      ],
      "text/plain": [
       "        A       B\n",
       "0  6.8090  6.7703\n",
       "1  6.4376  7.5093\n",
       "2  6.9157  6.7300\n",
       "3  7.3012  6.7878\n",
       "4  7.4488  7.1522"
      ]
     },
     "execution_count": 11,
     "metadata": {},
     "output_type": "execute_result"
    }
   ],
   "source": [
    "df.rename(columns={'Unit A':'A' ,'Unit B':'B'},inplace=True)\n",
    "D=describe(df)\n",
    "df.head()"
   ]
  },
  {
   "cell_type": "code",
   "execution_count": 12,
   "id": "1a2af831",
   "metadata": {},
   "outputs": [],
   "source": [
    "varA=df['A'].var()\n",
    "varB=df['B'].var()"
   ]
  },
  {
   "cell_type": "code",
   "execution_count": 18,
   "id": "d76e9630",
   "metadata": {},
   "outputs": [
    {
     "name": "stdout",
     "output_type": "stream",
     "text": [
      "Inferences from the data\n",
      "nobs:35\n",
      "minmax:(array([6.4376, 6.038 ]), array([7.5169, 7.5459]))\n",
      "mean:[7.01909143 6.96429714]\n",
      "variance:[0.08317945 0.117924  ]\n",
      "skewness:[-0.11831877 -0.36346397]\n",
      "kurtosis:[-0.96159273  0.00599388]\n",
      "variance: [0.08317945374789915, 0.11792400440336127]\n"
     ]
    }
   ],
   "source": [
    "print(\"Inferences from the data\")\n",
    "for key,value in D._asdict().items():\n",
    "    print(f\"{key}:{value}\")\n",
    "Variance=[varA,varB]\n",
    "print(\"variance:\", Variance)\n"
   ]
  },
  {
   "cell_type": "markdown",
   "id": "641b303e",
   "metadata": {},
   "source": [
    "## Checking Normality of the data"
   ]
  },
  {
   "cell_type": "markdown",
   "id": "16ea0171",
   "metadata": {},
   "source": [
    "Given \n",
    "confidence level = 95%\n",
    "\n",
    "α = 0.05 (1-0.95)\n",
    "\n",
    "H0 = Both Unit A and Unit B are normal.\n",
    "\n",
    "H1 = Unit A and Unit B are not normal."
   ]
  },
  {
   "cell_type": "code",
   "execution_count": 14,
   "id": "a5fc909c",
   "metadata": {},
   "outputs": [
    {
     "data": {
      "text/plain": [
       "ShapiroResult(statistic=0.9649459719657898, pvalue=0.31998491287231445)"
      ]
     },
     "execution_count": 14,
     "metadata": {},
     "output_type": "execute_result"
    }
   ],
   "source": [
    "stats.shapiro(df[\"A\"])"
   ]
  },
  {
   "cell_type": "code",
   "execution_count": 15,
   "id": "3b091d6f",
   "metadata": {},
   "outputs": [
    {
     "data": {
      "text/plain": [
       "ShapiroResult(statistic=0.9727305769920349, pvalue=0.5225146412849426)"
      ]
     },
     "execution_count": 15,
     "metadata": {},
     "output_type": "execute_result"
    }
   ],
   "source": [
    "stats.shapiro(df[\"B\"])"
   ]
  },
  {
   "cell_type": "markdown",
   "id": "5966eb5b",
   "metadata": {},
   "source": [
    "By observing the p-values of both the UnitA and UnitB we can observe that the \n",
    "\n",
    "Both the p-values > α. i.e., (0.320>0.05) and (0.522>0.05)\n",
    "\n",
    "So, we rejcet the alternate hypothesis(H1) and accept the Null hypothesis(H0).\n",
    "\n",
    "Therefore, The Unit-A and Unit-B are normally distributed."
   ]
  },
  {
   "cell_type": "markdown",
   "id": "357c9019",
   "metadata": {},
   "source": [
    "# Performing Paired T-Test\n",
    "\n",
    "\n",
    "Significance level = 0.05\n",
    "\n",
    "H0 == Mean for Y1 and Y2 are equal\n",
    "\n",
    "H1 == Mean for Y1 and Y2 are not equal"
   ]
  },
  {
   "cell_type": "markdown",
   "id": "8b5e8f11",
   "metadata": {},
   "source": [
    "#### As there is no population information, we cannot find the Z - Score for the given information\n",
    "So we will calculate the T-Test for the cutlets.csv"
   ]
  },
  {
   "cell_type": "code",
   "execution_count": 16,
   "id": "01226c55",
   "metadata": {},
   "outputs": [
    {
     "data": {
      "text/plain": [
       "TtestResult(statistic=0.7536787225614316, pvalue=0.4562300768038412, df=34)"
      ]
     },
     "execution_count": 16,
     "metadata": {},
     "output_type": "execute_result"
    }
   ],
   "source": [
    "stats.ttest_rel(df['A'],df['B'])"
   ]
  },
  {
   "cell_type": "markdown",
   "id": "9dad6595",
   "metadata": {},
   "source": [
    "By performing T_test we got the p-value like 0.45\n",
    "That is which is greater than α\n",
    "The p-value claculated is 0.45 > α\n",
    "So, we can conclude that"
   ]
  }
 ],
 "metadata": {
  "kernelspec": {
   "display_name": "Python 3 (ipykernel)",
   "language": "python",
   "name": "python3"
  },
  "language_info": {
   "codemirror_mode": {
    "name": "ipython",
    "version": 3
   },
   "file_extension": ".py",
   "mimetype": "text/x-python",
   "name": "python",
   "nbconvert_exporter": "python",
   "pygments_lexer": "ipython3",
   "version": "3.11.3"
  }
 },
 "nbformat": 4,
 "nbformat_minor": 5
}
