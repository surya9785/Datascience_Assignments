{
 "cells": [
  {
   "cell_type": "code",
   "execution_count": 28,
   "id": "bfd88a59",
   "metadata": {},
   "outputs": [],
   "source": [
    "import numpy as np\n",
    "import pandas as pd\n",
    "from scipy.stats import describe\n",
    "from scipy import stats"
   ]
  },
  {
   "cell_type": "code",
   "execution_count": 29,
   "id": "45e5290b",
   "metadata": {},
   "outputs": [
    {
     "data": {
      "text/html": [
       "<div>\n",
       "<style scoped>\n",
       "    .dataframe tbody tr th:only-of-type {\n",
       "        vertical-align: middle;\n",
       "    }\n",
       "\n",
       "    .dataframe tbody tr th {\n",
       "        vertical-align: top;\n",
       "    }\n",
       "\n",
       "    .dataframe thead th {\n",
       "        text-align: right;\n",
       "    }\n",
       "</style>\n",
       "<table border=\"1\" class=\"dataframe\">\n",
       "  <thead>\n",
       "    <tr style=\"text-align: right;\">\n",
       "      <th></th>\n",
       "      <th>Laboratory 1</th>\n",
       "      <th>Laboratory 2</th>\n",
       "      <th>Laboratory 3</th>\n",
       "      <th>Laboratory 4</th>\n",
       "    </tr>\n",
       "  </thead>\n",
       "  <tbody>\n",
       "    <tr>\n",
       "      <th>0</th>\n",
       "      <td>185.35</td>\n",
       "      <td>165.53</td>\n",
       "      <td>176.70</td>\n",
       "      <td>166.13</td>\n",
       "    </tr>\n",
       "    <tr>\n",
       "      <th>1</th>\n",
       "      <td>170.49</td>\n",
       "      <td>185.91</td>\n",
       "      <td>198.45</td>\n",
       "      <td>160.79</td>\n",
       "    </tr>\n",
       "    <tr>\n",
       "      <th>2</th>\n",
       "      <td>192.77</td>\n",
       "      <td>194.92</td>\n",
       "      <td>201.23</td>\n",
       "      <td>185.18</td>\n",
       "    </tr>\n",
       "    <tr>\n",
       "      <th>3</th>\n",
       "      <td>177.33</td>\n",
       "      <td>183.00</td>\n",
       "      <td>199.61</td>\n",
       "      <td>176.42</td>\n",
       "    </tr>\n",
       "    <tr>\n",
       "      <th>4</th>\n",
       "      <td>193.41</td>\n",
       "      <td>169.57</td>\n",
       "      <td>204.63</td>\n",
       "      <td>152.60</td>\n",
       "    </tr>\n",
       "  </tbody>\n",
       "</table>\n",
       "</div>"
      ],
      "text/plain": [
       "   Laboratory 1  Laboratory 2  Laboratory 3  Laboratory 4\n",
       "0        185.35        165.53        176.70        166.13\n",
       "1        170.49        185.91        198.45        160.79\n",
       "2        192.77        194.92        201.23        185.18\n",
       "3        177.33        183.00        199.61        176.42\n",
       "4        193.41        169.57        204.63        152.60"
      ]
     },
     "execution_count": 29,
     "metadata": {},
     "output_type": "execute_result"
    }
   ],
   "source": [
    "df=pd.read_csv(r\"C:\\Users\\surya\\Downloads\\LabTAT.csv\")\n",
    "df.head()"
   ]
  },
  {
   "cell_type": "code",
   "execution_count": 30,
   "id": "d2b5f43c",
   "metadata": {},
   "outputs": [
    {
     "data": {
      "text/html": [
       "<div>\n",
       "<style scoped>\n",
       "    .dataframe tbody tr th:only-of-type {\n",
       "        vertical-align: middle;\n",
       "    }\n",
       "\n",
       "    .dataframe tbody tr th {\n",
       "        vertical-align: top;\n",
       "    }\n",
       "\n",
       "    .dataframe thead th {\n",
       "        text-align: right;\n",
       "    }\n",
       "</style>\n",
       "<table border=\"1\" class=\"dataframe\">\n",
       "  <thead>\n",
       "    <tr style=\"text-align: right;\">\n",
       "      <th></th>\n",
       "      <th>Lab1</th>\n",
       "      <th>Lab2</th>\n",
       "      <th>Lab3</th>\n",
       "      <th>Lab4</th>\n",
       "    </tr>\n",
       "  </thead>\n",
       "  <tbody>\n",
       "    <tr>\n",
       "      <th>0</th>\n",
       "      <td>185.35</td>\n",
       "      <td>165.53</td>\n",
       "      <td>176.70</td>\n",
       "      <td>166.13</td>\n",
       "    </tr>\n",
       "    <tr>\n",
       "      <th>1</th>\n",
       "      <td>170.49</td>\n",
       "      <td>185.91</td>\n",
       "      <td>198.45</td>\n",
       "      <td>160.79</td>\n",
       "    </tr>\n",
       "    <tr>\n",
       "      <th>2</th>\n",
       "      <td>192.77</td>\n",
       "      <td>194.92</td>\n",
       "      <td>201.23</td>\n",
       "      <td>185.18</td>\n",
       "    </tr>\n",
       "    <tr>\n",
       "      <th>3</th>\n",
       "      <td>177.33</td>\n",
       "      <td>183.00</td>\n",
       "      <td>199.61</td>\n",
       "      <td>176.42</td>\n",
       "    </tr>\n",
       "    <tr>\n",
       "      <th>4</th>\n",
       "      <td>193.41</td>\n",
       "      <td>169.57</td>\n",
       "      <td>204.63</td>\n",
       "      <td>152.60</td>\n",
       "    </tr>\n",
       "  </tbody>\n",
       "</table>\n",
       "</div>"
      ],
      "text/plain": [
       "     Lab1    Lab2    Lab3    Lab4\n",
       "0  185.35  165.53  176.70  166.13\n",
       "1  170.49  185.91  198.45  160.79\n",
       "2  192.77  194.92  201.23  185.18\n",
       "3  177.33  183.00  199.61  176.42\n",
       "4  193.41  169.57  204.63  152.60"
      ]
     },
     "execution_count": 30,
     "metadata": {},
     "output_type": "execute_result"
    }
   ],
   "source": [
    "df.rename(columns={'Laboratory 1':'Lab1' ,'Laboratory 2':'Lab2','Laboratory 3':'Lab3','Laboratory 4':'Lab4'},inplace=True)\n",
    "D=describe(df)\n",
    "df.head()"
   ]
  },
  {
   "cell_type": "code",
   "execution_count": 31,
   "id": "609f3866",
   "metadata": {},
   "outputs": [],
   "source": [
    "var1=df['Lab1'].var()\n",
    "var2=df['Lab2'].var()\n",
    "var3=df['Lab3'].var()\n",
    "var4=df['Lab4'].var()"
   ]
  },
  {
   "cell_type": "code",
   "execution_count": 32,
   "id": "3cebb1aa",
   "metadata": {},
   "outputs": [
    {
     "name": "stdout",
     "output_type": "stream",
     "text": [
      "Inferences from the data\n",
      "nobs:120\n",
      "minmax:(array([138.3 , 140.55, 159.69, 124.06]), array([216.39, 217.86, 238.7 , 205.18]))\n",
      "mean:[178.36158333 178.90291667 199.91325    163.68275   ]\n",
      "variance:[173.54356806 223.71525109 273.539607   227.55963187]\n",
      "skewness:[-0.17486957  0.04014906  0.13190811 -0.10272477]\n",
      "kurtosis:[ 0.67167075 -0.19500961 -0.42915427  0.31065064]\n",
      "Variance: [173.54356806022412, 223.71525108543426, 273.53960699579824, 227.55963186974788]\n"
     ]
    }
   ],
   "source": [
    "print(\"Inferences from the data\")\n",
    "for key,value in D._asdict().items():\n",
    "    print(f\"{key}:{value}\")\n",
    "Variance=[var1,var2,var3,var4]\n",
    "print(\"Variance:\",Variance)"
   ]
  },
  {
   "cell_type": "markdown",
   "id": "d45f0bb4",
   "metadata": {},
   "source": [
    "Given\n",
    "confidence level = 95%\n",
    "\n",
    "α = 0.05 (1-0.95)\n",
    "\n",
    "H0: All the Laboratories are normal\n",
    "\n",
    "H1: All the Laboratories are not normal"
   ]
  },
  {
   "cell_type": "markdown",
   "id": "8b923079",
   "metadata": {},
   "source": [
    "## Normality Test "
   ]
  },
  {
   "cell_type": "code",
   "execution_count": 33,
   "id": "780ea353",
   "metadata": {},
   "outputs": [
    {
     "name": "stdout",
     "output_type": "stream",
     "text": [
      "ShapiroResult(statistic=0.990183413028717, pvalue=0.5507769584655762)\n",
      "ShapiroResult(statistic=0.9936320185661316, pvalue=0.8637352585792542)\n",
      "ShapiroResult(statistic=0.988633930683136, pvalue=0.42045730352401733)\n",
      "ShapiroResult(statistic=0.9913760423660278, pvalue=0.6619619131088257)\n"
     ]
    }
   ],
   "source": [
    "print(stats.shapiro(df['Lab1']))\n",
    "print(stats.shapiro(df['Lab2']))\n",
    "print(stats.shapiro(df['Lab3']))\n",
    "print(stats.shapiro(df['Lab4']))"
   ]
  },
  {
   "cell_type": "markdown",
   "id": "0c66f4cc",
   "metadata": {},
   "source": [
    "# Comparing the P-values\n",
    "\n",
    "P-Value of Lab1 = 0.55>α\n",
    "\n",
    "P-Value of Lab2 = 0.86>α\n",
    "\n",
    "P-value of Lab3 = 0.42>α\n",
    "\n",
    "P-Value of Lab4 = 0.66>α"
   ]
  },
  {
   "cell_type": "markdown",
   "id": "f7a5d6bb",
   "metadata": {},
   "source": [
    "So, we can conclude that all the p-values are greater than the significance level.\n"
   ]
  },
  {
   "cell_type": "markdown",
   "id": "af67365a",
   "metadata": {},
   "source": [
    "### H0 is accepted. All the Laboratories are Normal"
   ]
  },
  {
   "cell_type": "markdown",
   "id": "970df1a3",
   "metadata": {},
   "source": [
    "Now, We will check the Variance of laboratories..."
   ]
  },
  {
   "cell_type": "markdown",
   "id": "2585d3bb",
   "metadata": {},
   "source": [
    "## Variance Test"
   ]
  },
  {
   "cell_type": "markdown",
   "id": "3a968809",
   "metadata": {},
   "source": [
    "H0: There is no siginficance between the variances\n",
    "\n",
    "H1: There is a siginficance between the variances"
   ]
  },
  {
   "cell_type": "code",
   "execution_count": 34,
   "id": "25fd0ab1",
   "metadata": {},
   "outputs": [
    {
     "data": {
      "text/plain": [
       "LeveneResult(statistic=2.599642500418024, pvalue=0.05161343808309816)"
      ]
     },
     "execution_count": 34,
     "metadata": {},
     "output_type": "execute_result"
    }
   ],
   "source": [
    "stats.levene(df[\"Lab1\"],df[\"Lab2\"],df[\"Lab3\"],df[\"Lab4\"])"
   ]
  },
  {
   "cell_type": "markdown",
   "id": "7e5aee7c",
   "metadata": {},
   "source": [
    "Hence, relative pvalue of all variances > α\n",
    "i.e, 0.0516>0.05"
   ]
  },
  {
   "cell_type": "markdown",
   "id": "77c5d3f5",
   "metadata": {},
   "source": [
    "### H0 is accepted, There is no significance difference between the variances of laboratories"
   ]
  },
  {
   "cell_type": "markdown",
   "id": "fb0f2e0c",
   "metadata": {},
   "source": [
    "Now, we will calculate the ANOVA Test."
   ]
  },
  {
   "cell_type": "markdown",
   "id": "4309d728",
   "metadata": {},
   "source": [
    "H0 = The Mean TAT for all the laboratories is same\n",
    "\n",
    "H1 = The Mean TAT for all the laboratories is not same"
   ]
  },
  {
   "cell_type": "code",
   "execution_count": 35,
   "id": "03d5acec",
   "metadata": {},
   "outputs": [
    {
     "data": {
      "text/plain": [
       "F_onewayResult(statistic=118.70421654401437, pvalue=2.1156708949992414e-57)"
      ]
     },
     "execution_count": 35,
     "metadata": {},
     "output_type": "execute_result"
    }
   ],
   "source": [
    "stats.f_oneway(df[\"Lab1\"], df[\"Lab2\"], df[\"Lab3\"], df[\"Lab4\"])"
   ]
  },
  {
   "cell_type": "markdown",
   "id": "a7c9a7e2",
   "metadata": {},
   "source": [
    "Here, The p-value is less than α\n",
    "\n",
    "2e-57 < α\n"
   ]
  },
  {
   "cell_type": "markdown",
   "id": "444e956c",
   "metadata": {},
   "source": [
    "### Therefore, H1 is accepted, There is a significance difference between the MEAN TAT."
   ]
  }
 ],
 "metadata": {
  "kernelspec": {
   "display_name": "Python 3 (ipykernel)",
   "language": "python",
   "name": "python3"
  },
  "language_info": {
   "codemirror_mode": {
    "name": "ipython",
    "version": 3
   },
   "file_extension": ".py",
   "mimetype": "text/x-python",
   "name": "python",
   "nbconvert_exporter": "python",
   "pygments_lexer": "ipython3",
   "version": "3.11.3"
  }
 },
 "nbformat": 4,
 "nbformat_minor": 5
}
