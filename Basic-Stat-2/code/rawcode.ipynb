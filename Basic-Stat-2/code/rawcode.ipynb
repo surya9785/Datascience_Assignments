{
 "cells": [
  {
   "cell_type": "markdown",
   "id": "9f0d6292",
   "metadata": {},
   "source": [
    "# SET-1 DESC STATISTICS PROB"
   ]
  },
  {
   "cell_type": "markdown",
   "id": "57816727",
   "metadata": {},
   "source": [
    "### Ques-1"
   ]
  },
  {
   "cell_type": "code",
   "execution_count": 23,
   "id": "03270ddd",
   "metadata": {},
   "outputs": [],
   "source": [
    "library(\"readxl\")"
   ]
  },
  {
   "cell_type": "code",
   "execution_count": 24,
   "id": "f733b09d",
   "metadata": {},
   "outputs": [],
   "source": [
    "com = read_excel(\"C:\\\\Users\\\\surya\\\\Downloads\\\\company.xlsx\")"
   ]
  },
  {
   "cell_type": "code",
   "execution_count": 25,
   "id": "4d178cd1",
   "metadata": {},
   "outputs": [],
   "source": [
    "colnames(com)=c(\"Company\", \"Measure\")"
   ]
  },
  {
   "cell_type": "code",
   "execution_count": 26,
   "id": "3b099266",
   "metadata": {},
   "outputs": [
    {
     "data": {
      "text/html": [
       "<table>\n",
       "<thead><tr><th scope=col>Company</th><th scope=col>Measure</th></tr></thead>\n",
       "<tbody>\n",
       "\t<tr><td>Allied Signal   </td><td>0.2423          </td></tr>\n",
       "\t<tr><td>Bankers Trust   </td><td>0.2553          </td></tr>\n",
       "\t<tr><td>General Mills   </td><td>0.2541          </td></tr>\n",
       "\t<tr><td>ITT Industries  </td><td>0.2414          </td></tr>\n",
       "\t<tr><td>J.P.Morgan &amp; Co.</td><td>0.2962              </td></tr>\n",
       "\t<tr><td>Lehman Brothers </td><td>0.2825          </td></tr>\n",
       "</tbody>\n",
       "</table>\n"
      ],
      "text/latex": [
       "\\begin{tabular}{r|ll}\n",
       " Company & Measure\\\\\n",
       "\\hline\n",
       "\t Allied Signal    & 0.2423          \\\\\n",
       "\t Bankers Trust    & 0.2553          \\\\\n",
       "\t General Mills    & 0.2541          \\\\\n",
       "\t ITT Industries   & 0.2414          \\\\\n",
       "\t J.P.Morgan \\& Co. & 0.2962            \\\\\n",
       "\t Lehman Brothers  & 0.2825          \\\\\n",
       "\\end{tabular}\n"
      ],
      "text/markdown": [
       "\n",
       "Company | Measure | \n",
       "|---|---|---|---|---|---|\n",
       "| Allied Signal    | 0.2423           | \n",
       "| Bankers Trust    | 0.2553           | \n",
       "| General Mills    | 0.2541           | \n",
       "| ITT Industries   | 0.2414           | \n",
       "| J.P.Morgan & Co. | 0.2962           | \n",
       "| Lehman Brothers  | 0.2825           | \n",
       "\n",
       "\n"
      ],
      "text/plain": [
       "  Company          Measure\n",
       "1 Allied Signal    0.2423 \n",
       "2 Bankers Trust    0.2553 \n",
       "3 General Mills    0.2541 \n",
       "4 ITT Industries   0.2414 \n",
       "5 J.P.Morgan & Co. 0.2962 \n",
       "6 Lehman Brothers  0.2825 "
      ]
     },
     "metadata": {},
     "output_type": "display_data"
    }
   ],
   "source": [
    "head(ex)"
   ]
  },
  {
   "cell_type": "code",
   "execution_count": 27,
   "id": "db0a1273",
   "metadata": {},
   "outputs": [
    {
     "data": {
      "text/html": [
       "0.9136"
      ],
      "text/latex": [
       "0.9136"
      ],
      "text/markdown": [
       "0.9136"
      ],
      "text/plain": [
       "[1] 0.9136"
      ]
     },
     "metadata": {},
     "output_type": "display_data"
    },
    {
     "data": {
      "image/png": "[encoded data removed]",
      "text/plain": [
       "plot without title"
      ]
     },
     "metadata": {},
     "output_type": "display_data"
    }
   ],
   "source": [
    "boxplot(com$Measure)$out"
   ]
  },
  {
   "cell_type": "code",
   "execution_count": 42,
   "id": "5718cfbe",
   "metadata": {},
   "outputs": [
    {
     "data": {
      "text/html": [
       "0.332713333333333"
      ],
      "text/latex": [
       "0.332713333333333"
      ],
      "text/markdown": [
       "0.332713333333333"
      ],
      "text/plain": [
       "[1] 0.3327133"
      ]
     },
     "metadata": {},
     "output_type": "display_data"
    },
    {
     "data": {
      "text/html": [
       "0.16945400921222"
      ],
      "text/latex": [
       "0.16945400921222"
      ],
      "text/markdown": [
       "0.16945400921222"
      ],
      "text/plain": [
       "[1] 0.169454"
      ]
     },
     "metadata": {},
     "output_type": "display_data"
    },
    {
     "data": {
      "text/html": [
       "0.0287146612380952"
      ],
      "text/latex": [
       "0.0287146612380952"
      ],
      "text/markdown": [
       "0.0287146612380952"
      ],
      "text/plain": [
       "[1] 0.02871466"
      ]
     },
     "metadata": {},
     "output_type": "display_data"
    }
   ],
   "source": [
    "mean(com$Measure)\n",
    "sd(com$Measure)\n",
    "var(com$Measure)"
   ]
  },
  {
   "cell_type": "markdown",
   "id": "5079e56c",
   "metadata": {},
   "source": [
    "# Normal distribution, Functions of Random Variables"
   ]
  },
  {
   "cell_type": "markdown",
   "id": "9aa88df1",
   "metadata": {},
   "source": [
    "### Q1"
   ]
  },
  {
   "cell_type": "code",
   "execution_count": 39,
   "id": "f4fe7bc3",
   "metadata": {},
   "outputs": [
    {
     "data": {
      "text/html": [
       "0.265985529048701"
      ],
      "text/latex": [
       "0.265985529048701"
      ],
      "text/markdown": [
       "0.265985529048701"
      ],
      "text/plain": [
       "[1] 0.2659855"
      ]
     },
     "metadata": {},
     "output_type": "display_data"
    }
   ],
   "source": [
    "m = 45\n",
    "sd = 8\n",
    "(1-pnorm(50,45,8))"
   ]
  },
  {
   "cell_type": "markdown",
   "id": "332b87e2",
   "metadata": {},
   "source": [
    "### Q4"
   ]
  },
  {
   "cell_type": "code",
   "execution_count": 41,
   "id": "345f7355",
   "metadata": {},
   "outputs": [
    {
     "data": {
      "text/html": [
       "151.516586070978"
      ],
      "text/latex": [
       "151.516586070978"
      ],
      "text/markdown": [
       "151.516586070978"
      ],
      "text/plain": [
       "[1] 151.5166"
      ]
     },
     "metadata": {},
     "output_type": "display_data"
    },
    {
     "data": {
      "text/html": [
       "48.483413929022"
      ],
      "text/latex": [
       "48.483413929022"
      ],
      "text/markdown": [
       "48.483413929022"
      ],
      "text/plain": [
       "[1] 48.48341"
      ]
     },
     "metadata": {},
     "output_type": "display_data"
    }
   ],
   "source": [
    "qnorm(0.995,100,20)\n",
    "qnorm(0.005,100,20)"
   ]
  },
  {
   "cell_type": "markdown",
   "id": "b8d43f64",
   "metadata": {},
   "source": [
    "### Q5 - A "
   ]
  },
  {
   "cell_type": "code",
   "execution_count": 44,
   "id": "5d514a28",
   "metadata": {},
   "outputs": [
    {
     "data": {
      "text/html": [
       "<ol class=list-inline>\n",
       "\t<li>219.12010804638</li>\n",
       "\t<li>230.87989195362</li>\n",
       "</ol>\n"
      ],
      "text/latex": [
       "\\begin{enumerate*}\n",
       "\\item 219.12010804638\n",
       "\\item 230.87989195362\n",
       "\\end{enumerate*}\n"
      ],
      "text/markdown": [
       "1. 219.12010804638\n",
       "2. 230.87989195362\n",
       "\n",
       "\n"
      ],
      "text/plain": [
       "[1] 219.1201 230.8799"
      ]
     },
     "metadata": {},
     "output_type": "display_data"
    },
    {
     "data": {
      "text/html": [
       "<ol class=list-inline>\n",
       "\t<li>307.16014406184</li>\n",
       "\t<li>322.83985593816</li>\n",
       "</ol>\n"
      ],
      "text/latex": [
       "\\begin{enumerate*}\n",
       "\\item 307.16014406184\n",
       "\\item 322.83985593816\n",
       "\\end{enumerate*}\n"
      ],
      "text/markdown": [
       "1. 307.16014406184\n",
       "2. 322.83985593816\n",
       "\n",
       "\n"
      ],
      "text/plain": [
       "[1] 307.1601 322.8399"
      ]
     },
     "metadata": {},
     "output_type": "display_data"
    }
   ],
   "source": [
    "#First distribution\n",
    "a=qnorm(0.975,225,3)\n",
    "b=qnorm(0.025,225,3)\n",
    "range1 <- c(b,a)\n",
    "range1\n",
    "#Second distribution\n",
    "x=qnorm(0.975,315,4)\n",
    "y=qnorm(0.025,315,4)\n",
    "range2 <- c(y,x)\n",
    "range2"
   ]
  },
  {
   "cell_type": "markdown",
   "id": "d7842df4",
   "metadata": {},
   "source": [
    "### Q5 - B"
   ]
  },
  {
   "cell_type": "code",
   "execution_count": 45,
   "id": "12f54e1d",
   "metadata": {},
   "outputs": [
    {
     "data": {
      "text/html": [
       "528.48602461134"
      ],
      "text/latex": [
       "528.48602461134"
      ],
      "text/markdown": [
       "528.48602461134"
      ],
      "text/plain": [
       "[1] 528.486"
      ]
     },
     "metadata": {},
     "output_type": "display_data"
    }
   ],
   "source": [
    "qnorm(0.05,225,3)+qnorm(0.05,315,4)"
   ]
  }
 ],
 "metadata": {
  "kernelspec": {
   "display_name": "R",
   "language": "R",
   "name": "ir"
  },
  "language_info": {
   "codemirror_mode": "r",
   "file_extension": ".r",
   "mimetype": "text/x-r-source",
   "name": "R",
   "pygments_lexer": "r",
   "version": "3.4.3"
  }
 },
 "nbformat": 4,
 "nbformat_minor": 5
}
